{
 "cells": [
  {
   "cell_type": "markdown",
   "metadata": {},
   "source": [
    "# load data\n"
   ]
  },
  {
   "cell_type": "code",
   "execution_count": 1,
   "metadata": {},
   "outputs": [],
   "source": [
    "# !! pip install pandas\n",
    "# !! pip install openpyxl"
   ]
  },
  {
   "cell_type": "code",
   "execution_count": 2,
   "metadata": {},
   "outputs": [],
   "source": [
    "import pandas as pd\n",
    "import os\n"
   ]
  },
  {
   "cell_type": "code",
   "execution_count": 3,
   "metadata": {},
   "outputs": [],
   "source": [
    "data_type = '60'\n",
    "data_folder = f'./spectrum{data_type}(s)/'\n",
    "csv_folder = f'./{data_type}(s)csvs/'\n",
    "\n",
    "if not os.path.exists(csv_folder):\n",
    "    os.mkdir(csv_folder)"
   ]
  },
  {
   "cell_type": "markdown",
   "metadata": {},
   "source": [
    "## sample"
   ]
  },
  {
   "cell_type": "code",
   "execution_count": 4,
   "metadata": {},
   "outputs": [],
   "source": [
    "# xlsx_file = f'{data_folder}t1.xlsx'\n",
    "# xlsx = pd.ExcelFile(xlsx_file)\n",
    "\n",
    "# # Get the list of sheet names in the Excel file\n",
    "# sheet_names = xlsx.sheet_names\n",
    "\n",
    "# # Initialize an empty DataFrame to hold the concatenated data\n",
    "# all_data = pd.DataFrame()\n",
    "\n",
    "# # Loop through each sheet, read data, and concatenate it\n",
    "# for sheet_name in sheet_names:\n",
    "#     df = pd.read_excel(xlsx, sheet_name)\n",
    "#     all_data = pd.concat([all_data, df], ignore_index=True)\n",
    "\n",
    "# # Save the concatenated data as a single CSV file\n",
    "# csv_file = \"combined_data.csv\"\n",
    "# # all_data.to_csv(csv_file, index=False)\n",
    "\n",
    "# all_data\n"
   ]
  },
  {
   "cell_type": "markdown",
   "metadata": {},
   "source": [
    "## convert all data"
   ]
  },
  {
   "cell_type": "code",
   "execution_count": 5,
   "metadata": {},
   "outputs": [],
   "source": [
    "def convert_xlsx_to_csv(xlsx_file, csv_folder, testname):\n",
    "    \n",
    "    xlsx = pd.ExcelFile(xlsx_file)\n",
    "\n",
    "    # Get the list of sheet names in the Excel file\n",
    "    sheet_names = xlsx.sheet_names\n",
    "\n",
    "    # Initialize an empty DataFrame to hold the concatenated data\n",
    "    all_data = pd.DataFrame()\n",
    "\n",
    "    # Loop through each sheet, read data, and concatenate it\n",
    "    for sheet_name in sheet_names:\n",
    "        df = pd.read_excel(xlsx, sheet_name)\n",
    "        df = df[df.columns[:2]]\n",
    "\n",
    "        wavelength = df[df.columns[0]]\n",
    "        value = df[df.columns[1]]\n",
    "        \n",
    "        wavelength = wavelength[5:]\n",
    "        value = value[5:]\n",
    "\n",
    "        temp_dict = {'wavelength' : wavelength, 'value' : value}\n",
    "        cleaned_df = pd.DataFrame(temp_dict)\n",
    "        all_data = pd.concat([all_data, cleaned_df], ignore_index=True)\n",
    "\n",
    "    # Save the concatenated data as a single CSV file\n",
    "    csv_file = f'{csv_folder}{testname}.csv'\n",
    "    all_data.to_csv(csv_file, index=False)"
   ]
  },
  {
   "cell_type": "code",
   "execution_count": 6,
   "metadata": {},
   "outputs": [],
   "source": [
    "# for filename in os.listdir(data_folder):\n",
    "#     testname = filename.split('.')[0]\n",
    "#     xlsx_file = f'{data_folder}{filename}'\n",
    "#     convert_xlsx_to_csv(xlsx_file, csv_folder, testname)\n"
   ]
  },
  {
   "cell_type": "markdown",
   "metadata": {},
   "source": [
    "# prep data for ml"
   ]
  },
  {
   "cell_type": "code",
   "execution_count": 7,
   "metadata": {},
   "outputs": [],
   "source": [
    "data_values = {}\n",
    "for filename in os.listdir(csv_folder):\n",
    "    data_instance = pd.read_csv(f'{csv_folder}{filename}')\n",
    "    name = filename.replace('.csv', '')\n",
    "    data_values[name] = (data_instance['value'])\n",
    "    cols = data_instance['wavelength']\n",
    "\n",
    "data = pd.DataFrame(data_values)\n",
    "data = data.transpose()\n",
    "data.to_csv(f'data_{data_type}.csv', index=False)"
   ]
  }
 ],
 "metadata": {
  "kernelspec": {
   "display_name": "Python 3",
   "language": "python",
   "name": "python3"
  },
  "language_info": {
   "codemirror_mode": {
    "name": "ipython",
    "version": 3
   },
   "file_extension": ".py",
   "mimetype": "text/x-python",
   "name": "python",
   "nbconvert_exporter": "python",
   "pygments_lexer": "ipython3",
   "version": "3.11.3"
  },
  "orig_nbformat": 4
 },
 "nbformat": 4,
 "nbformat_minor": 2
}
